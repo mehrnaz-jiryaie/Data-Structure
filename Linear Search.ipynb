{
 "cells": [
  {
   "cell_type": "markdown",
   "id": "e6ed87cc",
   "metadata": {},
   "source": [
    "# Linear Search"
   ]
  },
  {
   "cell_type": "code",
   "execution_count": 3,
   "id": "03418125",
   "metadata": {},
   "outputs": [
    {
     "name": "stdout",
     "output_type": "stream",
     "text": [
      "Enter the number of elements in the list: 23 456 81 987 1264 2\n",
      "Enter the number you want to search in the list :2\n",
      "Number 2 is present in the list.\n"
     ]
    }
   ],
   "source": [
    "numbers = list(map(int, input(\"Enter the number of elements in the list: \").split()))\n",
    "search_value = int(input(\"Enter the number you want to search in the list :\"))\n",
    "# We want to check whether the 'search_value' is present in the 'numbers' or not?\n",
    "\n",
    "for i in numbers:\n",
    "    if i == search_value:\n",
    "        print(f\"Number {search_value} is present in the list.\")\n",
    "        break\n",
    "else:\n",
    "    print(f\"number {search_value} is not present in the list.\")"
   ]
  }
 ],
 "metadata": {
  "kernelspec": {
   "display_name": "Python 3 (ipykernel)",
   "language": "python",
   "name": "python3"
  },
  "language_info": {
   "codemirror_mode": {
    "name": "ipython",
    "version": 3
   },
   "file_extension": ".py",
   "mimetype": "text/x-python",
   "name": "python",
   "nbconvert_exporter": "python",
   "pygments_lexer": "ipython3",
   "version": "3.11.5"
  }
 },
 "nbformat": 4,
 "nbformat_minor": 5
}
