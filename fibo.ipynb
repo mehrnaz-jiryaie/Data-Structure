{
 "cells": [
  {
   "cell_type": "markdown",
   "id": "fa44dd27",
   "metadata": {},
   "source": [
    "# Fibonacci sequence"
   ]
  },
  {
   "cell_type": "code",
   "execution_count": 11,
   "id": "acf23319",
   "metadata": {},
   "outputs": [],
   "source": [
    "from colorama import Fore, Style"
   ]
  },
  {
   "cell_type": "code",
   "execution_count": 12,
   "id": "2e227e33",
   "metadata": {},
   "outputs": [],
   "source": [
    "def fibo(param):\n",
    "    \"\"\"This function calculates the terms of Fibonacci sequence.\"\"\"\n",
    "    if param == 1 :\n",
    "        return 0\n",
    "    elif param == 2 or param == 3:\n",
    "        return 1\n",
    "    \n",
    "    else:\n",
    "        return fibo(param-1) + fibo(param-2)"
   ]
  },
  {
   "cell_type": "code",
   "execution_count": 13,
   "id": "91b98a95",
   "metadata": {},
   "outputs": [
    {
     "name": "stdout",
     "output_type": "stream",
     "text": [
      "Enter the number of term that you want:36\n",
      "The 36th term is 9227465\n"
     ]
    }
   ],
   "source": [
    "# while(True):\n",
    "try:\n",
    "        term_number = int(input(Style.RESET_ALL + \"Enter the number of term that you want:\"))\n",
    "        term = fibo(term_number)\n",
    "        print(f\"The {term_number}th term is {term}\")\n",
    "\n",
    "except(ValueError):\n",
    "        print(Fore.RED + \"You entered an invalid input. Invalid inputs are such as : {0, -65, \\\"abc\\\"}.\"\n",
    "              \"Please enter a valid integer.\")"
   ]
  }
 ],
 "metadata": {
  "kernelspec": {
   "display_name": "Python 3 (ipykernel)",
   "language": "python",
   "name": "python3"
  },
  "language_info": {
   "codemirror_mode": {
    "name": "ipython",
    "version": 3
   },
   "file_extension": ".py",
   "mimetype": "text/x-python",
   "name": "python",
   "nbconvert_exporter": "python",
   "pygments_lexer": "ipython3",
   "version": "3.11.5"
  }
 },
 "nbformat": 4,
 "nbformat_minor": 5
}
