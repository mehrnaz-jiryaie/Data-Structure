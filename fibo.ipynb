{
 "cells": [
  {
   "cell_type": "markdown",
   "id": "53067c98",
   "metadata": {},
   "source": [
    "# Fibonacci sequence"
   ]
  },
  {
   "cell_type": "markdown",
   "id": "989bf99c",
   "metadata": {},
   "source": [
    "## With recursion function"
   ]
  },
  {
   "cell_type": "code",
   "execution_count": 1,
   "id": "fd45aedf",
   "metadata": {},
   "outputs": [],
   "source": [
    "from colorama import Fore, Style"
   ]
  },
  {
   "cell_type": "code",
   "execution_count": 12,
   "id": "504649cb",
   "metadata": {},
   "outputs": [],
   "source": [
    "def fibo(param):\n",
    "    \"\"\"This function calculates the terms of Fibonacci sequence.\"\"\"\n",
    "    if param == 1 :\n",
    "        return 0\n",
    "    elif param == 2 or param == 3:\n",
    "        return 1\n",
    "    \n",
    "    else:\n",
    "        return fibo(param-1) + fibo(param-2)"
   ]
  },
  {
   "cell_type": "code",
   "execution_count": null,
   "id": "d1ef9720",
   "metadata": {},
   "outputs": [],
   "source": [
    "# while(True):\n",
    "try:\n",
    "        term_number = int(input(Style.RESET_ALL + \"Enter the number of term that you want:\"))\n",
    "        term = fibo(term_number)\n",
    "        print(f\"The {term_number}th term is {term}\")\n",
    "\n",
    "except(ValueError):\n",
    "        print(Fore.RED + \"You entered an invalid input. Invalid inputs are such as : {0, -65, \\\"abc\\\"}.\"\n",
    "              \"Please enter a valid integer.\")"
   ]
  },
  {
   "cell_type": "markdown",
   "id": "3846ea2a",
   "metadata": {},
   "source": [
    "## With loop"
   ]
  },
  {
   "cell_type": "code",
   "execution_count": 5,
   "id": "0ee7ad11",
   "metadata": {},
   "outputs": [],
   "source": [
    "from colorama import Fore, Style"
   ]
  },
  {
   "cell_type": "code",
   "execution_count": 3,
   "id": "d0bf5d20",
   "metadata": {},
   "outputs": [],
   "source": [
    "def fibo(param):\n",
    "    if param == 1 :\n",
    "        return 0\n",
    "    elif param == 2 or param == 3 :\n",
    "        return 1\n",
    "    else :\n",
    "       while param > 3 :\n",
    "            return fibo(param-1) + fibo(param-2)"
   ]
  },
  {
   "cell_type": "code",
   "execution_count": 4,
   "id": "64af925b",
   "metadata": {},
   "outputs": [
    {
     "name": "stdout",
     "output_type": "stream",
     "text": [
      "Enter the number of term that you want:5\n",
      "The 5th term is 3\n"
     ]
    }
   ],
   "source": [
    "try:\n",
    "    term_number = int(input(Style.RESET_ALL + \"Enter the number of term that you want:\"))\n",
    "    term = fibo(term_number)\n",
    "    print(f\"The {term_number}th term is {term}\")\n",
    "\n",
    "except(ValueError):\n",
    "    print(Fore.RED + \"You entered an invalid input. Invalid inputs are such as : {0, -65, \\\"abc\\\"}.\"\n",
    "    \"Please enter a valid integer.\")"
   ]
  },
  {
   "cell_type": "code",
   "execution_count": null,
   "id": "fe029924",
   "metadata": {},
   "outputs": [],
   "source": []
  }
 ],
 "metadata": {
  "kernelspec": {
   "display_name": "Python 3 (ipykernel)",
   "language": "python",
   "name": "python3"
  },
  "language_info": {
   "codemirror_mode": {
    "name": "ipython",
    "version": 3
   },
   "file_extension": ".py",
   "mimetype": "text/x-python",
   "name": "python",
   "nbconvert_exporter": "python",
   "pygments_lexer": "ipython3",
   "version": "3.11.5"
  }
 },
 "nbformat": 4,
 "nbformat_minor": 5
}
